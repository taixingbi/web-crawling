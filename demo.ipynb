{
 "cells": [
  {
   "cell_type": "code",
   "execution_count": 1,
   "metadata": {},
   "outputs": [],
   "source": [
    "import pandas as pd\n",
    "\n",
    "from bs4 import BeautifulSoup\n",
    "import requests"
   ]
  },
  {
   "cell_type": "code",
   "execution_count": 2,
   "metadata": {},
   "outputs": [],
   "source": [
    "def get_source(url):\n",
    "    response = requests.get(url, timeout=5)\n",
    "    print( response )\n",
    "    source= BeautifulSoup(response.content, \"html.parser\")\n",
    "    return source\n",
    "\n",
    "def get_links(url):\n",
    "    html = requests.get(url).content\n",
    "    bsObj = BeautifulSoup(html, 'lxml')\n",
    "\n",
    "    links = bsObj.findAll('a')\n",
    "    \n",
    "    setLinks = set()\n",
    "    for link in links:\n",
    "        url= link.attrs['href']\n",
    "        if url[-1] == '/': url= url[:-1]\n",
    "        setLinks.add(url)\n",
    "    \n",
    "    validlink= []\n",
    "    for setLink in setLinks:\n",
    "        if \"http://\" in setLink: \n",
    "            validlink.append(setLink)\n",
    "    \n",
    "    return validlink\n",
    "\n",
    "def extract_texts(tag):\n",
    "    contents= soup.find_all(tag)\n",
    "    texts=[]\n",
    "    for content in contents:\n",
    "        texts.append(  content.get_text() )\n",
    "    return texts\n"
   ]
  },
  {
   "cell_type": "markdown",
   "metadata": {},
   "source": [
    "# get all urls"
   ]
  },
  {
   "cell_type": "code",
   "execution_count": 3,
   "metadata": {},
   "outputs": [
    {
     "name": "stdout",
     "output_type": "stream",
     "text": [
      "<Response [200]>\n"
     ]
    },
    {
     "data": {
      "text/plain": [
       "['http://18.218.59.9/contact',\n",
       " 'http://18.218.59.9',\n",
       " 'http://18.218.59.9/services',\n",
       " 'http://18.218.59.9/about']"
      ]
     },
     "execution_count": 3,
     "metadata": {},
     "output_type": "execute_result"
    }
   ],
   "source": [
    "url ='http://18.218.59.9'\n",
    "soup= get_source(url)\n",
    "\n",
    "links= get_links(url)\n",
    "links"
   ]
  },
  {
   "cell_type": "markdown",
   "metadata": {},
   "source": [
    "#  services page sparse"
   ]
  },
  {
   "cell_type": "code",
   "execution_count": 4,
   "metadata": {},
   "outputs": [
    {
     "name": "stdout",
     "output_type": "stream",
     "text": [
      "<Response [200]>\n"
     ]
    }
   ],
   "source": [
    "url = 'http://18.218.59.9/services'\n",
    "soup= get_source(url)"
   ]
  },
  {
   "cell_type": "code",
   "execution_count": 5,
   "metadata": {},
   "outputs": [
    {
     "data": {
      "text/plain": [
       "['$ 25 per class', '$ 40 per class', '$ 35 per class']"
      ]
     },
     "execution_count": 5,
     "metadata": {},
     "output_type": "execute_result"
    }
   ],
   "source": [
    "price= extract_texts('h1')\n",
    "price"
   ]
  },
  {
   "cell_type": "code",
   "execution_count": 6,
   "metadata": {},
   "outputs": [
    {
     "data": {
      "text/plain": [
       "['\\nChildren class\\n', '\\nArgentine Tango\\n', '\\nBaley\\n']"
      ]
     },
     "execution_count": 6,
     "metadata": {},
     "output_type": "execute_result"
    }
   ],
   "source": [
    "name= extract_texts('h3')\n",
    "name"
   ]
  },
  {
   "cell_type": "code",
   "execution_count": 7,
   "metadata": {},
   "outputs": [
    {
     "data": {
      "text/plain": [
       "['Creativity & Technique classes explore movement and build on skills necessary for continued study in dance. The Artistry & Performance track provides continued study in various dance forms while preparing students for annual performances.',\n",
       " 'Argentine Tango consists of a variety of styles that developed in different regions and eras, and in response to the crowding of the venue and even the fashions in clothing. Even though they all developed in Argentina and Uruguay, they were also exposed to influences imported from Europe and North America. ',\n",
       " 'Creativity & Technique classes explore movement and build on skills necessary for continued study in dance. The Artistry & Performance track provides continued study in various dance forms while preparing students for annual performances.']"
      ]
     },
     "execution_count": 7,
     "metadata": {},
     "output_type": "execute_result"
    }
   ],
   "source": [
    "p= extract_texts('p')\n",
    "summary= p[1:]\n",
    "summary"
   ]
  },
  {
   "cell_type": "code",
   "execution_count": 8,
   "metadata": {},
   "outputs": [
    {
     "data": {
      "text/html": [
       "<div>\n",
       "<style scoped>\n",
       "    .dataframe tbody tr th:only-of-type {\n",
       "        vertical-align: middle;\n",
       "    }\n",
       "\n",
       "    .dataframe tbody tr th {\n",
       "        vertical-align: top;\n",
       "    }\n",
       "\n",
       "    .dataframe thead th {\n",
       "        text-align: right;\n",
       "    }\n",
       "</style>\n",
       "<table border=\"1\" class=\"dataframe\">\n",
       "  <thead>\n",
       "    <tr style=\"text-align: right;\">\n",
       "      <th></th>\n",
       "      <th>name</th>\n",
       "      <th>summary</th>\n",
       "      <th>price</th>\n",
       "    </tr>\n",
       "  </thead>\n",
       "  <tbody>\n",
       "    <tr>\n",
       "      <th>0</th>\n",
       "      <td>\\nChildren class\\n</td>\n",
       "      <td>Creativity &amp; Technique classes explore movemen...</td>\n",
       "      <td>$ 25 per class</td>\n",
       "    </tr>\n",
       "    <tr>\n",
       "      <th>1</th>\n",
       "      <td>\\nArgentine Tango\\n</td>\n",
       "      <td>Argentine Tango consists of a variety of style...</td>\n",
       "      <td>$ 40 per class</td>\n",
       "    </tr>\n",
       "    <tr>\n",
       "      <th>2</th>\n",
       "      <td>\\nBaley\\n</td>\n",
       "      <td>Creativity &amp; Technique classes explore movemen...</td>\n",
       "      <td>$ 35 per class</td>\n",
       "    </tr>\n",
       "  </tbody>\n",
       "</table>\n",
       "</div>"
      ],
      "text/plain": [
       "                  name                                            summary  \\\n",
       "0   \\nChildren class\\n  Creativity & Technique classes explore movemen...   \n",
       "1  \\nArgentine Tango\\n  Argentine Tango consists of a variety of style...   \n",
       "2            \\nBaley\\n  Creativity & Technique classes explore movemen...   \n",
       "\n",
       "            price  \n",
       "0  $ 25 per class  \n",
       "1  $ 40 per class  \n",
       "2  $ 35 per class  "
      ]
     },
     "execution_count": 8,
     "metadata": {},
     "output_type": "execute_result"
    }
   ],
   "source": [
    "d = {'name':name,'summary':summary,'price':price}\n",
    "df= pd.DataFrame(d)\n",
    "df"
   ]
  },
  {
   "cell_type": "code",
   "execution_count": 9,
   "metadata": {},
   "outputs": [
    {
     "data": {
      "text/html": [
       "<div>\n",
       "<style scoped>\n",
       "    .dataframe tbody tr th:only-of-type {\n",
       "        vertical-align: middle;\n",
       "    }\n",
       "\n",
       "    .dataframe tbody tr th {\n",
       "        vertical-align: top;\n",
       "    }\n",
       "\n",
       "    .dataframe thead th {\n",
       "        text-align: right;\n",
       "    }\n",
       "</style>\n",
       "<table border=\"1\" class=\"dataframe\">\n",
       "  <thead>\n",
       "    <tr style=\"text-align: right;\">\n",
       "      <th></th>\n",
       "      <th>name</th>\n",
       "      <th>summary</th>\n",
       "      <th>price</th>\n",
       "    </tr>\n",
       "  </thead>\n",
       "  <tbody>\n",
       "    <tr>\n",
       "      <th>0</th>\n",
       "      <td>Children class</td>\n",
       "      <td>Creativity &amp; Technique classes explore movemen...</td>\n",
       "      <td>$ 25 per class</td>\n",
       "    </tr>\n",
       "    <tr>\n",
       "      <th>1</th>\n",
       "      <td>Argentine Tango</td>\n",
       "      <td>Argentine Tango consists of a variety of style...</td>\n",
       "      <td>$ 40 per class</td>\n",
       "    </tr>\n",
       "    <tr>\n",
       "      <th>2</th>\n",
       "      <td>Baley</td>\n",
       "      <td>Creativity &amp; Technique classes explore movemen...</td>\n",
       "      <td>$ 35 per class</td>\n",
       "    </tr>\n",
       "  </tbody>\n",
       "</table>\n",
       "</div>"
      ],
      "text/plain": [
       "              name                                            summary  \\\n",
       "0   Children class  Creativity & Technique classes explore movemen...   \n",
       "1  Argentine Tango  Argentine Tango consists of a variety of style...   \n",
       "2            Baley  Creativity & Technique classes explore movemen...   \n",
       "\n",
       "            price  \n",
       "0  $ 25 per class  \n",
       "1  $ 40 per class  \n",
       "2  $ 35 per class  "
      ]
     },
     "execution_count": 9,
     "metadata": {},
     "output_type": "execute_result"
    }
   ],
   "source": [
    "df['name'] = df['name'] .replace('\\n', '' , regex=True)\n",
    "df"
   ]
  },
  {
   "cell_type": "code",
   "execution_count": 10,
   "metadata": {},
   "outputs": [
    {
     "data": {
      "text/html": [
       "<div>\n",
       "<style scoped>\n",
       "    .dataframe tbody tr th:only-of-type {\n",
       "        vertical-align: middle;\n",
       "    }\n",
       "\n",
       "    .dataframe tbody tr th {\n",
       "        vertical-align: top;\n",
       "    }\n",
       "\n",
       "    .dataframe thead th {\n",
       "        text-align: right;\n",
       "    }\n",
       "</style>\n",
       "<table border=\"1\" class=\"dataframe\">\n",
       "  <thead>\n",
       "    <tr style=\"text-align: right;\">\n",
       "      <th></th>\n",
       "      <th>name</th>\n",
       "      <th>summary</th>\n",
       "      <th>price</th>\n",
       "    </tr>\n",
       "  </thead>\n",
       "  <tbody>\n",
       "    <tr>\n",
       "      <th>0</th>\n",
       "      <td>Children class</td>\n",
       "      <td>Creativity &amp; Technique classes explore movemen...</td>\n",
       "      <td>$ 25</td>\n",
       "    </tr>\n",
       "    <tr>\n",
       "      <th>1</th>\n",
       "      <td>Argentine Tango</td>\n",
       "      <td>Argentine Tango consists of a variety of style...</td>\n",
       "      <td>$ 40</td>\n",
       "    </tr>\n",
       "    <tr>\n",
       "      <th>2</th>\n",
       "      <td>Baley</td>\n",
       "      <td>Creativity &amp; Technique classes explore movemen...</td>\n",
       "      <td>$ 35</td>\n",
       "    </tr>\n",
       "  </tbody>\n",
       "</table>\n",
       "</div>"
      ],
      "text/plain": [
       "              name                                            summary  price\n",
       "0   Children class  Creativity & Technique classes explore movemen...  $ 25 \n",
       "1  Argentine Tango  Argentine Tango consists of a variety of style...  $ 40 \n",
       "2            Baley  Creativity & Technique classes explore movemen...  $ 35 "
      ]
     },
     "execution_count": 10,
     "metadata": {},
     "output_type": "execute_result"
    }
   ],
   "source": [
    "df['price'] = df['price'].replace('per class', '' , regex=True)\n",
    "df"
   ]
  },
  {
   "cell_type": "code",
   "execution_count": 11,
   "metadata": {},
   "outputs": [],
   "source": [
    "df.to_csv('class.csv')"
   ]
  },
  {
   "cell_type": "code",
   "execution_count": null,
   "metadata": {},
   "outputs": [],
   "source": []
  },
  {
   "cell_type": "code",
   "execution_count": null,
   "metadata": {},
   "outputs": [],
   "source": []
  },
  {
   "cell_type": "code",
   "execution_count": null,
   "metadata": {},
   "outputs": [],
   "source": []
  },
  {
   "cell_type": "code",
   "execution_count": null,
   "metadata": {},
   "outputs": [],
   "source": []
  },
  {
   "cell_type": "code",
   "execution_count": null,
   "metadata": {},
   "outputs": [],
   "source": []
  }
 ],
 "metadata": {
  "kernelspec": {
   "display_name": "Python 3",
   "language": "python",
   "name": "python3"
  },
  "language_info": {
   "codemirror_mode": {
    "name": "ipython",
    "version": 3
   },
   "file_extension": ".py",
   "mimetype": "text/x-python",
   "name": "python",
   "nbconvert_exporter": "python",
   "pygments_lexer": "ipython3",
   "version": "3.6.5"
  }
 },
 "nbformat": 4,
 "nbformat_minor": 2
}
